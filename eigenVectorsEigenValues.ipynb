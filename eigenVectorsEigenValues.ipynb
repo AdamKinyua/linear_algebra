{
 "cells": [
  {
   "cell_type": "code",
   "execution_count": 1,
   "id": "5cc4f750",
   "metadata": {},
   "outputs": [],
   "source": [
    "import numpy as np\n",
    "import matplotlib.pyplot as plt\n",
    "from mpl_toolkits.mplot3d import Axes3D"
   ]
  },
  {
   "cell_type": "code",
   "execution_count": 2,
   "id": "88d7cedd",
   "metadata": {},
   "outputs": [
    {
     "name": "stdout",
     "output_type": "stream",
     "text": [
      "\n",
      "EIGEN VECTORS AND EIGEN VALUES\n",
      "\n",
      "*****Matrix Multiplication id dot product*******\n",
      "\n",
      "MACHINE LEARNING FOUNDATION USEFULNESS\n",
      "[LINEAR ALGEBRA 2]\n",
      "\n",
      "                                        Use Tensors in Python to \n",
      "                                      Solve Systems of Equations and \n",
      "                                    Identify Meaningful Patterns in Data\n",
      "                                          by Dr. Krohn, Ph.d.\n",
      "\n",
      "\n",
      "\n",
      "\n",
      "Applying matrix \n",
      " [[ 2  0 -1]\n",
      " [-2  3  1]\n",
      " [ 0  4 -1]] on matrix [ 2  5 -3] \n",
      " gives us [ 7  8 23] \n",
      " Its basically dot product\n",
      "\n",
      "\n",
      " Matrix Concatetanation\n",
      "\n",
      "\n",
      "[[ 2  0 -1]\n",
      " [-2  3  1]\n",
      " [ 0  4 -1]] \n",
      "operating on concatenated matrix [ 2  5 -3  0 -4  6]\n",
      " gives us\n"
     ]
    },
    {
     "data": {
      "text/plain": [
       "array([  7,   8,  23,  -6,  -6, -22])"
      ]
     },
     "execution_count": 2,
     "metadata": {},
     "output_type": "execute_result"
    }
   ],
   "source": [
    "print(\"\"\"\n",
    "EIGEN VECTORS AND EIGEN VALUES\n",
    "\n",
    "*****Matrix Multiplication id dot product*******\n",
    "\n",
    "MACHINE LEARNING FOUNDATION USEFULNESS\n",
    "[LINEAR ALGEBRA 2]\n",
    "\n",
    "                                        Use Tensors in Python to \n",
    "                                      Solve Systems of Equations and \n",
    "                                    Identify Meaningful Patterns in Data\n",
    "                                          by Dr. Krohn, Ph.d.\n",
    "\n",
    "\n",
    "\n",
    "\"\"\")\n",
    "μ1 = np.array([2,5,-3])\n",
    "μ2 = np.array([0,-4,6])\n",
    "B = np.array([[2,0,-1],[-2,3,1],[0,4,-1]])\n",
    "C = np.dot(B,μ1)  # Appying matrix B to μ1\n",
    "print(f\"Applying matrix \\n {B} on matrix {μ1} \\n gives us {C} \\n Its basically dot product\")\n",
    "print(\"\\n\\n Matrix Concatetanation\\n\\n\")\n",
    "U = np.concatenate((μ1,μ2), axis = 0)\n",
    "print(f\"{B} \\noperating on concatenated matrix {U}\\n gives us\")\n",
    "X = np.dot(B,μ2)\n",
    "BU = np.concatenate((C,X), axis = 0)\n",
    "BU"
   ]
  },
  {
   "cell_type": "code",
   "execution_count": 3,
   "id": "aac13e98",
   "metadata": {
    "scrolled": true
   },
   "outputs": [
    {
     "name": "stdout",
     "output_type": "stream",
     "text": [
      "\n",
      "                                                AFFINE TRANSFORMATIONS\n",
      "\n",
      "- DOR PRODUCT ## - Dot product tells you what amount  of one vector goes into direction of another                                           \n",
      "-like flipping & rotations \n",
      "-Scaling changes the length of vectors\n",
      "\n",
      "[1 0] [0 1]\n"
     ]
    },
    {
     "data": {
      "image/png": "[encoded data removed]",
      "text/plain": [
       "<Figure size 432x288 with 1 Axes>"
      ]
     },
     "metadata": {
      "needs_background": "light"
     },
     "output_type": "display_data"
    }
   ],
   "source": [
    "# Satets\n",
    "state_A = np.array([1,0])\n",
    "state_B = np.array([0,1])\n",
    "\n",
    "# Wavefunction\n",
    "print(state_A, state_B)\n",
    "\n",
    "\n",
    "# Function to Plot\n",
    "def plotVectors(vectors, colors):\n",
    "    \"\"\"\n",
    "    Plots vectors on 2D planes, specify colors for each\n",
    "    \n",
    "    Arguments \n",
    "    ----------\n",
    "    Vectors: list or lists of arrays\n",
    "    Colors: list\n",
    "    \n",
    "    Example\n",
    "    ----------\n",
    "    plotVectors(E, 'red')\n",
    "    plt.xlim(-1,4)\n",
    "    plt.ylim(-1,4)\n",
    "    \"\"\"\n",
    "    plt.figure()\n",
    "    plt.axvline(x=0, color='lightgray')\n",
    "    plt.axhline(y=0, color='lightgray')\n",
    "    \n",
    "    for i in range(len(vectors)):\n",
    "        x = np.concatenate([[0,0], vectors[i]])\n",
    "        plt.quiver([x[0]], [x[1]], [x[2]], [x[3]],\n",
    "                  angles='xy', scale_units='xy', scale=1, color=colors[i],)\n",
    "\n",
    "plotVectors([state_A, state_B], ['red', 'green'])\n",
    "\n",
    "plt.xlim(-3,3)\n",
    "_=plt.ylim(-3,3)"
   ]
  },
  {
   "cell_type": "code",
   "execution_count": null,
   "id": "8664293d",
   "metadata": {},
   "outputs": [],
   "source": []
  }
 ],
 "metadata": {
  "kernelspec": {
   "display_name": "Python 3 (ipykernel)",
   "language": "python",
   "name": "python3"
  },
  "language_info": {
   "codemirror_mode": {
    "name": "ipython",
    "version": 3
   },
   "file_extension": ".py",
   "mimetype": "text/x-python",
   "name": "python",
   "nbconvert_exporter": "python",
   "pygments_lexer": "ipython3",
   "version": "3.10.6"
  }
 },
 "nbformat": 4,
 "nbformat_minor": 5
}
