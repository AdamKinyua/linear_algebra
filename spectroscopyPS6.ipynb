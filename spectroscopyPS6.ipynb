{
 "cells": [
  {
   "cell_type": "code",
   "execution_count": 1,
   "id": "e5ef157e",
   "metadata": {},
   "outputs": [],
   "source": [
    "import sympy as sp"
   ]
  },
  {
   "cell_type": "code",
   "execution_count": 2,
   "id": "f034b823",
   "metadata": {},
   "outputs": [],
   "source": [
    "Bp,Bpp,J,Jp,Jpp,Ep, Epp, V0, Dp, Dpp = sp.symbols('Bp Bpp J Jp Jpp Ep Epp V0 Dp Dpp') # p = prime, pp = double prime"
   ]
  },
  {
   "cell_type": "code",
   "execution_count": 3,
   "id": "62dabbf8",
   "metadata": {},
   "outputs": [
    {
     "data": {
      "text/latex": [
       "$\\displaystyle Bp \\left(J + 1\\right) \\left(J + 2\\right)$"
      ],
      "text/plain": [
       "Bp*(J + 1)*(J + 2)"
      ]
     },
     "execution_count": 3,
     "metadata": {},
     "output_type": "execute_result"
    }
   ],
   "source": []
  },
  {
   "cell_type": "code",
   "execution_count": null,
   "id": "70ea4f46",
   "metadata": {},
   "outputs": [],
   "source": []
  }
 ],
 "metadata": {
  "kernelspec": {
   "display_name": "Python 3 (ipykernel)",
   "language": "python",
   "name": "python3"
  },
  "language_info": {
   "codemirror_mode": {
    "name": "ipython",
    "version": 3
   },
   "file_extension": ".py",
   "mimetype": "text/x-python",
   "name": "python",
   "nbconvert_exporter": "python",
   "pygments_lexer": "ipython3",
   "version": "3.10.6"
  }
 },
 "nbformat": 4,
 "nbformat_minor": 5
}
