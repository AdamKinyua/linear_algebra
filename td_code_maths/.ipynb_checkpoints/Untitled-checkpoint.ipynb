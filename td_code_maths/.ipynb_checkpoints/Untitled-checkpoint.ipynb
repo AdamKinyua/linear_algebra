{
 "cells": [
  {
   "cell_type": "code",
   "execution_count": 1,
   "id": "8d92e50a",
   "metadata": {},
   "outputs": [],
   "source": [
    "import numpy as np\n",
    "import matplotlib.pyplot as plt \n",
    "from mpl_toolkits.mplot3d import Axes3D"
   ]
  },
  {
   "cell_type": "code",
   "execution_count": 2,
   "id": "e3ccb89a",
   "metadata": {},
   "outputs": [
    {
     "name": "stdout",
     "output_type": "stream",
     "text": [
      "[[ 9.99991819e-01  5.32652079e-20  1.93747318e-03 -1.10918827e-01]\n",
      " [ 0.00000000e+00  1.00000062e+00 -5.00000309e-01  0.00000000e+00]\n",
      " [-3.82294864e-03  5.36833374e-18  4.99353307e-01 -4.96247185e-02]\n",
      " [-1.11627011e-03  5.02383175e-20  2.53455433e-02  9.86188686e-01]]\n",
      "\n",
      "[[ 9.99998953e-01  2.83072000e-07  2.83072000e-07 -1.25948000e-07]\n",
      " [ 2.83072000e-07  9.99999750e-01 -8.68649000e-07  4.53352000e-07]\n",
      " [ 2.83072000e-07 -8.68649000e-07  9.99999750e-01  4.53352000e-07]\n",
      " [-1.25948000e-07  4.53352000e-07  4.53352000e-07  9.99999354e-01]]\n",
      "\n",
      "[[ 9.99998988e-01  5.32652079e-20  3.33768000e-07 -1.47932000e-07]\n",
      " [ 5.32652079e-20  1.00000062e+00  5.36833374e-18  5.02383175e-20]\n",
      " [ 3.33768000e-07  5.36833374e-18  9.99998811e-01  6.56588000e-07]\n",
      " [-1.47932000e-07  5.02383175e-20  6.56588000e-07  9.99999389e-01]]\n"
     ]
    }
   ],
   "source": [
    "new_eigen_vecs = np.array([[0.993742, 0.000000, -0.009504, 0.11129],\n",
    "                   [0.002740, 0.707107, 0.706192, 0.035844],\n",
    "                   [0.002740, -0.707107,0.706192, 0.035844],\n",
    "                   [-0.111628, 0.000000, -0.049942, 0.992494]])\n",
    "old_eigen_vecs = np.array([[0.993647, 0.0, 0.0, 0.0],\n",
    "                           [0.000000, 0.707107, 0.0, 0.0],\n",
    "                           [0.000000, -0.707107, 0.707107, 0.0],\n",
    "                           [-0.112544, 0.000000, 0.000000, 0.993647]])\n",
    "state_coeffs = np.array([1.0, 0.0, 0.0, 0.0])\n",
    "\n",
    "new_eigen_vecs_Dagger = new_eigen_vecs.transpose().conjugate()\n",
    "'''\n",
    "def dotProduct(A,B):\n",
    "    for i in range(4):\n",
    "        for j in range(4):\n",
    "            print(A[i][j]*B[j][j])\n",
    "print(dotProduct(new_eigen_vecs,old_eigen_vecs))\n",
    "'''\n",
    "dot_product = np.dot(new_eigen_vecs_Dagger,old_eigen_vecs)\n",
    "print(dot_product)\n",
    "print('')\n",
    "print(np.matmul(new_eigen_vecs,new_eigen_vecs_Dagger))\n",
    "print('')\n",
    "print(np.matmul(new_eigen_vecs_Dagger,new_eigen_vecs))\n",
    "\n",
    "\n"
   ]
  },
  {
   "cell_type": "code",
   "execution_count": null,
   "id": "769171c4",
   "metadata": {},
   "outputs": [],
   "source": []
  }
 ],
 "metadata": {
  "kernelspec": {
   "display_name": "Python 3 (ipykernel)",
   "language": "python",
   "name": "python3"
  },
  "language_info": {
   "codemirror_mode": {
    "name": "ipython",
    "version": 3
   },
   "file_extension": ".py",
   "mimetype": "text/x-python",
   "name": "python",
   "nbconvert_exporter": "python",
   "pygments_lexer": "ipython3",
   "version": "3.10.6"
  }
 },
 "nbformat": 4,
 "nbformat_minor": 5
}
