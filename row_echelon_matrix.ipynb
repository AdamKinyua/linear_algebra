{
 "cells": [
  {
   "cell_type": "code",
   "execution_count": 7,
   "id": "700d23a7",
   "metadata": {},
   "outputs": [
    {
     "name": "stdout",
     "output_type": "stream",
     "text": [
      "Initial Matrix:\n",
      " [[  2.   1.  -1.   8.]\n",
      " [ -3.  -1.   2. -11.]\n",
      " [ -2.   1.   2.  -3.]]\n",
      "\n",
      "\n",
      "\n",
      "[ 1.   0.5 -0.5  4. ]\n",
      "[0. 1. 1. 2.]\n",
      "[-0. -0.  1. -1.]\n"
     ]
    }
   ],
   "source": [
    "import numpy as np\n",
    "\n",
    "# Coefficients of the linear equations\n",
    "coefficients = np.array([[2, 1, -1, 8],\n",
    "                        [-3, -1, 2, -11],\n",
    "                        [-2, 1, 2, -3]], dtype=float)\n",
    "\n",
    "# printing the initial matrix which is basically set of linear equations x,y,z plus constants\n",
    "print(f\"Initial Matrix:\\n {coefficients}\")\n",
    "print(\"\"\"\n",
    "\n",
    "\"\"\")\n",
    "\n",
    "# Number of equations and unknowns\n",
    "num_equations, num_unknowns = coefficients.shape[0], coefficients.shape[1] - 1\n",
    "\n",
    "# Perform row operations to convert the matrix into row echelon form\n",
    "for i in range(num_equations):\n",
    "    if coefficients[i, i] == 0:\n",
    "        for j in range(i + 1, num_equations):\n",
    "            if coefficients[j, i] != 0:\n",
    "                coefficients[[i, j]] = coefficients[[j, i]]\n",
    "                break\n",
    "\n",
    "    pivot = coefficients[i, i]\n",
    "    if pivot != 0:\n",
    "        coefficients[i] /= pivot\n",
    "\n",
    "    for j in range(i + 1, num_equations):\n",
    "        factor = coefficients[j, i]\n",
    "        coefficients[j] -= factor * coefficients[i]\n",
    "\n",
    "# Print the row echelon matrix\n",
    "for equation in coefficients:\n",
    "    #print(equation[:-1])\n",
    "    print(equation[:])"
   ]
  },
  {
   "cell_type": "code",
   "execution_count": null,
   "id": "3a342fc5",
   "metadata": {},
   "outputs": [],
   "source": []
  }
 ],
 "metadata": {
  "kernelspec": {
   "display_name": "Python 3 (ipykernel)",
   "language": "python",
   "name": "python3"
  },
  "language_info": {
   "codemirror_mode": {
    "name": "ipython",
    "version": 3
   },
   "file_extension": ".py",
   "mimetype": "text/x-python",
   "name": "python",
   "nbconvert_exporter": "python",
   "pygments_lexer": "ipython3",
   "version": "3.10.9"
  }
 },
 "nbformat": 4,
 "nbformat_minor": 5
}
