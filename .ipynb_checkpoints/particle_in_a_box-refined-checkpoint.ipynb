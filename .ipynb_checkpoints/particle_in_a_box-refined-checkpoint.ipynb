{
 "cells": [
  {
   "cell_type": "code",
   "execution_count": 1,
   "id": "bc0c3b4e",
   "metadata": {},
   "outputs": [],
   "source": [
    "# Shooting method; shooting for the values of energy until we get a valid eigen value \n"
   ]
  },
  {
   "cell_type": "code",
   "execution_count": 2,
   "id": "77612f65",
   "metadata": {},
   "outputs": [],
   "source": [
    "import matplotlib.pyplot as plt\n",
    "import numpy as np"
   ]
  },
  {
   "cell_type": "code",
   "execution_count": 3,
   "id": "495017ae",
   "metadata": {},
   "outputs": [],
   "source": [
    "# defining h-bar and  the mass of the particle \n",
    "h=1\n",
    "m=1"
   ]
  },
  {
   "cell_type": "code",
   "execution_count": 4,
   "id": "7d290f9b",
   "metadata": {},
   "outputs": [],
   "source": [
    "#defining the length of the box and the potential inside the box\n",
    "a=1\n",
    "V=0"
   ]
  },
  {
   "cell_type": "code",
   "execution_count": 5,
   "id": "80a754ed",
   "metadata": {},
   "outputs": [],
   "source": [
    "#####################Advanced; we want to scan for eigenvalues"
   ]
  },
  {
   "cell_type": "code",
   "execution_count": 6,
   "id": "3e922ee2",
   "metadata": {},
   "outputs": [],
   "source": [
    "# Defining our wavefunction and the first derivative; these two values have to be different\n",
    "E=0\n",
    "dE=0.01"
   ]
  },
  {
   "cell_type": "code",
   "execution_count": 7,
   "id": "5131f3ef",
   "metadata": {},
   "outputs": [],
   "source": [
    "#Remember x starts from 0 to a and we can increase it gradually by dx\n",
    "dx=0.001*a\n",
    "psi=0\n",
    "xlist=[]\n",
    "psilist=[]"
   ]
  },
  {
   "cell_type": "code",
   "execution_count": 8,
   "id": "a3bae732",
   "metadata": {},
   "outputs": [
    {
     "ename": "NameError",
     "evalue": "name 'xlist' is not defined",
     "output_type": "error",
     "traceback": [
      "\u001b[0;31m---------------------------------------------------------------------------\u001b[0m",
      "\u001b[0;31mNameError\u001b[0m                                 Traceback (most recent call last)",
      "\u001b[0;32m/tmp/ipykernel_2505380/185281359.py\u001b[0m in \u001b[0;36m<module>\u001b[0;34m\u001b[0m\n\u001b[1;32m     15\u001b[0m         \u001b[0mxlist\u001b[0m\u001b[0;34m.\u001b[0m\u001b[0mappend\u001b[0m\u001b[0;34m(\u001b[0m\u001b[0mx\u001b[0m\u001b[0;34m)\u001b[0m\u001b[0;34m\u001b[0m\u001b[0;34m\u001b[0m\u001b[0m\n\u001b[1;32m     16\u001b[0m         \u001b[0mpsilist\u001b[0m\u001b[0;34m.\u001b[0m\u001b[0mappend\u001b[0m\u001b[0;34m(\u001b[0m\u001b[0mpsi\u001b[0m\u001b[0;34m)\u001b[0m\u001b[0;34m\u001b[0m\u001b[0;34m\u001b[0m\u001b[0m\n\u001b[0;32m---> 17\u001b[0;31m \u001b[0mplt\u001b[0m\u001b[0;34m.\u001b[0m\u001b[0mplot\u001b[0m\u001b[0;34m(\u001b[0m\u001b[0mxlist\u001b[0m\u001b[0;34m,\u001b[0m\u001b[0mpsilist\u001b[0m\u001b[0;34m)\u001b[0m\u001b[0;34m\u001b[0m\u001b[0;34m\u001b[0m\u001b[0m\n\u001b[0m\u001b[1;32m     18\u001b[0m \u001b[0mplt\u001b[0m\u001b[0;34m.\u001b[0m\u001b[0mxlabel\u001b[0m\u001b[0;34m(\u001b[0m\u001b[0;34m\"box length L\"\u001b[0m\u001b[0;34m)\u001b[0m\u001b[0;34m\u001b[0m\u001b[0;34m\u001b[0m\u001b[0m\n\u001b[1;32m     19\u001b[0m \u001b[0mplt\u001b[0m\u001b[0;34m.\u001b[0m\u001b[0mylabel\u001b[0m\u001b[0;34m(\u001b[0m\u001b[0;34m\"psi\"\u001b[0m\u001b[0;34m)\u001b[0m\u001b[0;34m\u001b[0m\u001b[0;34m\u001b[0m\u001b[0m\n",
      "\u001b[0;31mNameError\u001b[0m: name 'xlist' is not defined"
     ]
    }
   ],
   "source": [
    "#Solving our wavefunction for all the  values of values of x\n",
    "while abs(psi)>0.001: \n",
    "    E=E+dE\n",
    "    x=0\n",
    "    psi=0\n",
    "    dpsi=1\n",
    "    xlist=[]\n",
    "    psilist=[]\n",
    "\n",
    "    while x<=a:\n",
    "        ddpsi=2*m/h**2*(V-E)*psi\n",
    "        dpsi=dpsi+ddpsi*dx\n",
    "        psi=psi+dpsi*dx\n",
    "        x=x+dx\n",
    "        xlist.append(x)\n",
    "        psilist.append(psi)\n",
    "plt.plot(xlist,psilist)\n",
    "plt.xlabel(\"box length L\")\n",
    "plt.ylabel(\"psi\")\n",
    "E"
   ]
  },
  {
   "cell_type": "code",
   "execution_count": null,
   "id": "5e9338be",
   "metadata": {},
   "outputs": [],
   "source": []
  }
 ],
 "metadata": {
  "kernelspec": {
   "display_name": "Python 3 (ipykernel)",
   "language": "python",
   "name": "python3"
  },
  "language_info": {
   "codemirror_mode": {
    "name": "ipython",
    "version": 3
   },
   "file_extension": ".py",
   "mimetype": "text/x-python",
   "name": "python",
   "nbconvert_exporter": "python",
   "pygments_lexer": "ipython3",
   "version": "3.10.6"
  }
 },
 "nbformat": 4,
 "nbformat_minor": 5
}
