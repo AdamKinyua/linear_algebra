{
 "cells": [
  {
   "cell_type": "code",
   "execution_count": 1,
   "id": "bc0c3b4e",
   "metadata": {},
   "outputs": [],
   "source": [
    "# Shooting method; shooting for the values of energy until we get a valid eigen value \n"
   ]
  },
  {
   "cell_type": "code",
   "execution_count": 2,
   "id": "77612f65",
   "metadata": {},
   "outputs": [],
   "source": [
    "import matplotlib.pyplot as plt\n",
    "import numpy as np"
   ]
  },
  {
   "cell_type": "code",
   "execution_count": 3,
   "id": "495017ae",
   "metadata": {},
   "outputs": [],
   "source": [
    "# defining h-bar and  the mass of the particle \n",
    "h=1\n",
    "m=1"
   ]
  },
  {
   "cell_type": "code",
   "execution_count": 4,
   "id": "7d290f9b",
   "metadata": {},
   "outputs": [],
   "source": [
    "#defining the length of the box and the potential inside the box\n",
    "a=1\n",
    "V=0"
   ]
  },
  {
   "cell_type": "code",
   "execution_count": 5,
   "id": "0b8334e2",
   "metadata": {},
   "outputs": [],
   "source": [
    "#####################Advanced; we want to scan for eigenvalues"
   ]
  },
  {
   "cell_type": "code",
   "execution_count": 6,
   "id": "60064b72",
   "metadata": {},
   "outputs": [],
   "source": [
    "# Defining our wavefunction and the first derivative; these two values have to be different\n",
    "E=0\n",
    "dE=0.01\n",
    "dx=0.001*a"
   ]
  },
  {
   "cell_type": "code",
   "execution_count": 7,
   "id": "43373f28",
   "metadata": {},
   "outputs": [],
   "source": [
    "#Remember x starts from 0 to a and we can increase it gradually by dx\n",
    "dx=0.001*a\n",
    "psi=0\n",
    "dpsi=1\n",
    "xlist=[]\n",
    "psilist=[]"
   ]
  },
  {
   "cell_type": "code",
   "execution_count": 8,
   "id": "a0af2ab3",
   "metadata": {},
   "outputs": [
    {
     "data": {
      "text/plain": [
       "0"
      ]
     },
     "execution_count": 8,
     "metadata": {},
     "output_type": "execute_result"
    },
    {
     "data": {
      "image/png": "[encoded data removed]",
      "text/plain": [
       "<Figure size 432x288 with 1 Axes>"
      ]
     },
     "metadata": {
      "needs_background": "light"
     },
     "output_type": "display_data"
    }
   ],
   "source": [
    "#Solving our wavefunction for all the  values of values of x\n",
    "while abs(psi)>0.001: \n",
    "    psi=0\n",
    "    dpsi=1\n",
    "    E=E+dE\n",
    "    x=0\n",
    "    xlist=[]\n",
    "    psilist=[]\n",
    "\n",
    "    while x<=a:\n",
    "        ddpsi=2*m/h**2*(V-E)*psi\n",
    "        dpsi=dpsi+ddpsi*dx\n",
    "        psi=psi+dpsi*dx\n",
    "        x=x+dx\n",
    "        xlist.append(x)\n",
    "        psilist.append(psi)\n",
    "plt.plot(xlist,psilist)\n",
    "plt.xlabel(\"box length L\")\n",
    "plt.ylabel(\"psi\")\n",
    "E"
   ]
  },
  {
   "cell_type": "code",
   "execution_count": null,
   "id": "2510af76",
   "metadata": {},
   "outputs": [],
   "source": []
  }
 ],
 "metadata": {
  "kernelspec": {
   "display_name": "Python 3 (ipykernel)",
   "language": "python",
   "name": "python3"
  },
  "language_info": {
   "codemirror_mode": {
    "name": "ipython",
    "version": 3
   },
   "file_extension": ".py",
   "mimetype": "text/x-python",
   "name": "python",
   "nbconvert_exporter": "python",
   "pygments_lexer": "ipython3",
   "version": "3.10.6"
  }
 },
 "nbformat": 4,
 "nbformat_minor": 5
}
