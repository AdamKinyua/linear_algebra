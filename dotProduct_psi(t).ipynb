{
 "cells": [
  {
   "cell_type": "code",
   "execution_count": 1,
   "id": "174232a2",
   "metadata": {},
   "outputs": [],
   "source": [
    "import numpy as np\n",
    "import matplotlib.pyplot as plt\n",
    "from math import *\n",
    "#from mpl_toolkits.mplot3d import axes 3D"
   ]
  },
  {
   "cell_type": "code",
   "execution_count": 2,
   "id": "dedbdb55",
   "metadata": {},
   "outputs": [
    {
     "name": "stdout",
     "output_type": "stream",
     "text": [
      "\n",
      "                                                AFFINE TRANSFORMATIONS\n",
      "                                                \n",
      "-like flipping & rotations \n",
      "-Scaling changes the length of vectors\n",
      "\n",
      "[0.6355805577941511, -0.07770041540478251]\n",
      "[0.52532199 0.85090352] \n",
      "\n",
      " [-0.85090352  0.52532199]\n"
     ]
    },
    {
     "data": {
      "image/png": "[encoded data removed]",
      "text/plain": [
       "<Figure size 432x288 with 1 Axes>"
      ]
     },
     "metadata": {
      "needs_background": "light"
     },
     "output_type": "display_data"
    }
   ],
   "source": [
    "print(\"\"\"\n",
    "                                                AFFINE TRANSFORMATIONS\n",
    "                                                \n",
    "-like flipping & rotations \n",
    "-Scaling changes the length of vectors\n",
    "\"\"\")\n",
    "state_A = np.array([1,0])\n",
    "state_B = np.array([0,1])\n",
    "psi_t = np.array([0.4, 0.5])\n",
    "\n",
    "θ = 45 # angle in degrees\n",
    "\n",
    "rotation_vector = np.array([[cos(45), -sin(45)], [sin(45), cos(45)]]) # math library used, rotates vectors by 45 degrees\n",
    "#print(rotation_vector)\n",
    "\n",
    "state_A_prime = np.dot(rotation_vector, state_A)\n",
    "state_B_prime = np.dot(rotation_vector, state_B)\n",
    "\n",
    "new_psi_t = ([np.dot(state_A_prime, psi_t), np.dot(state_B_prime, psi_t)])\n",
    "print(new_psi_t)\n",
    "\n",
    "print(f\"{state_A_prime} \\n\\n {state_B_prime}\")\n",
    "        # Declaring vector v\n",
    "# v = np.array([3,1])   # vector\n",
    "\n",
    "# state_A = np.array([1,0])\n",
    "\n",
    "        # Common matrix transformations\n",
    "# matrixIdentity = np.array([[1,0],[0,1]])   # identity matrix\n",
    "# matrix_x_Inversion = np.array([[1,0],[0,-1]]) # flips the matrix over the x - axis \n",
    "# matrix_y_Inversion = np.array([[-1,0],[0,1]]) # flips the matrix over the y - axis\n",
    "# matrix_180_rotation = np.array([[-1,0],[0,-1]]) # 180 degrees flip\n",
    "# a = np.array([[-1,4], [2, -2]])\n",
    "# av = np.dot(a,v) # rotation and other operations\n",
    "\n",
    "\n",
    "        # Operations on Vector v\n",
    "# vI = np.dot(matrixIdentity,v)\n",
    "# v_x_inverted = np.dot(matrix_x_Inversion,v)\n",
    "# v_y_inverted = np.dot(matrix_y_Inversion,v)\n",
    "# v_180_flip = np.dot(matrix_180_rotation,v)\n",
    "# v_column = np.matrix(v).T # Converts vector v to a single colum matrix\n",
    "\n",
    "\n",
    "# Function to Plot\n",
    "def plotVectors(vectors, colors):\n",
    "    \"\"\"\n",
    "    Plots vectors on 2D planes, specify colors for each\n",
    "    \n",
    "    Arguments \n",
    "    ----------\n",
    "    Vectors: list or lists of arrays\n",
    "    Colors: list\n",
    "    \n",
    "    Example\n",
    "    ----------\n",
    "    plotVectors(E, 'red')\n",
    "    plt.xlim(-1,4)\n",
    "    plt.ylim(-1,4)\n",
    "    \"\"\"\n",
    "    plt.figure()\n",
    "    plt.axvline(x=0, color='lightgray')\n",
    "    plt.axhline(y=0, color='lightgray')\n",
    "    \n",
    "    for i in range(len(vectors)):\n",
    "        x = np.concatenate([[0,0], vectors[i]])\n",
    "        plt.quiver([x[0]], [x[1]], [x[2]], [x[3]],\n",
    "                  angles='xy', scale_units='xy', scale=0.5, color=colors[i])\n",
    "\n",
    "\n",
    "#plotVectors([v, v_x_inverted, v_y_inverted, v_180_flip, av], ['lightblue', 'darkblue', 'orange', 'red', 'black'])\n",
    "plotVectors([state_A, state_B, psi_t, state_A_prime, state_B_prime, new_psi_t],['red', 'chocolate', 'blue', 'salmon', 'brown', 'lightblue'])\n",
    "plt.xlim(-2.5,2.5)\n",
    "_=plt.ylim(-2.5,2.5)"
   ]
  }
 ],
 "metadata": {
  "kernelspec": {
   "display_name": "Python 3 (ipykernel)",
   "language": "python",
   "name": "python3"
  },
  "language_info": {
   "codemirror_mode": {
    "name": "ipython",
    "version": 3
   },
   "file_extension": ".py",
   "mimetype": "text/x-python",
   "name": "python",
   "nbconvert_exporter": "python",
   "pygments_lexer": "ipython3",
   "version": "3.8.2"
  }
 },
 "nbformat": 4,
 "nbformat_minor": 5
}
